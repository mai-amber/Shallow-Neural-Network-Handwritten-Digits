{
 "cells": [
  {
   "cell_type": "markdown",
   "metadata": {},
   "source": [
    "<h1> Shallow Neural Network: Identifying Handwritten Digits <h1>"
   ]
  },
  {
   "cell_type": "markdown",
   "metadata": {},
   "source": [
    "<img src=\"Handwriting-digit-recognition-Keras-MNIST.jpg\">"
   ]
  },
  {
   "cell_type": "markdown",
   "metadata": {},
   "source": [
    "<h2> Imports and Data Loading <h2>"
   ]
  },
  {
   "cell_type": "code",
   "execution_count": 34,
   "metadata": {},
   "outputs": [],
   "source": [
    "import keras\n",
    "from keras.datasets import mnist\n",
    "from keras.models import Sequential\n",
    "from keras.layers import Dense\n",
    "from keras.optimizers import SGD\n",
    "from matplotlib import pyplot as plt"
   ]
  },
  {
   "cell_type": "code",
   "execution_count": 35,
   "metadata": {},
   "outputs": [],
   "source": [
    "(image_train, label_train), (image_test, label_test) = mnist.load_data()"
   ]
  },
  {
   "cell_type": "markdown",
   "metadata": {},
   "source": [
    "<h2>Preprocessing<h2>"
   ]
  },
  {
   "cell_type": "code",
   "execution_count": 36,
   "metadata": {},
   "outputs": [],
   "source": [
    "#Flattening\n",
    "image_train = image_train.reshape(60000, 784).astype('float32')\n",
    "image_test = image_test.reshape(10000, 784).astype('float32')\n",
    "\n",
    "#Converting into floats between 0-1\n",
    "image_train /= 255\n",
    "image_test /= 255\n",
    "\n",
    "#One hot encoding labels\n",
    "num_classes = 10\n",
    "label_train = keras.utils.to_categorical(label_train, num_classes)\n",
    "label_test = keras.utils.to_categorical(label_test, num_classes)"
   ]
  },
  {
   "cell_type": "markdown",
   "metadata": {},
   "source": [
    "<h2> Neural Network<h2>"
   ]
  },
  {
   "cell_type": "code",
   "execution_count": 51,
   "metadata": {},
   "outputs": [],
   "source": [
    "neural_network = Sequential()\n",
    "neural_network.add(Dense(64, activation='relu', input_shape=(784,)))\n",
    "neural_network.add(Dense(10, activation='sigmoid'))\n",
    "neural_network.compile(loss='mean_squared_error', optimizer='adam', metrics=['accuracy'])"
   ]
  },
  {
   "cell_type": "markdown",
   "metadata": {},
   "source": [
    "<h2>Training<h2>"
   ]
  },
  {
   "cell_type": "code",
   "execution_count": 52,
   "metadata": {},
   "outputs": [
    {
     "name": "stdout",
     "output_type": "stream",
     "text": [
      "Epoch 1/50\n",
      "469/469 - 1s - loss: 0.0338 - accuracy: 0.8195 - val_loss: 0.0169 - val_accuracy: 0.9151\n",
      "Epoch 2/50\n",
      "469/469 - 0s - loss: 0.0150 - accuracy: 0.9213 - val_loss: 0.0126 - val_accuracy: 0.9321\n",
      "Epoch 3/50\n",
      "469/469 - 1s - loss: 0.0116 - accuracy: 0.9367 - val_loss: 0.0105 - val_accuracy: 0.9411\n",
      "Epoch 4/50\n",
      "469/469 - 1s - loss: 0.0098 - accuracy: 0.9470 - val_loss: 0.0090 - val_accuracy: 0.9495\n",
      "Epoch 5/50\n",
      "469/469 - 1s - loss: 0.0085 - accuracy: 0.9539 - val_loss: 0.0081 - val_accuracy: 0.9555\n",
      "Epoch 6/50\n",
      "469/469 - 1s - loss: 0.0076 - accuracy: 0.9589 - val_loss: 0.0077 - val_accuracy: 0.9579\n",
      "Epoch 7/50\n",
      "469/469 - 0s - loss: 0.0068 - accuracy: 0.9638 - val_loss: 0.0071 - val_accuracy: 0.9610\n",
      "Epoch 8/50\n",
      "469/469 - 0s - loss: 0.0062 - accuracy: 0.9677 - val_loss: 0.0067 - val_accuracy: 0.9636\n",
      "Epoch 9/50\n",
      "469/469 - 1s - loss: 0.0056 - accuracy: 0.9707 - val_loss: 0.0063 - val_accuracy: 0.9654\n",
      "Epoch 10/50\n",
      "469/469 - 1s - loss: 0.0052 - accuracy: 0.9730 - val_loss: 0.0061 - val_accuracy: 0.9662\n",
      "Epoch 11/50\n",
      "469/469 - 1s - loss: 0.0048 - accuracy: 0.9751 - val_loss: 0.0058 - val_accuracy: 0.9684\n",
      "Epoch 12/50\n",
      "469/469 - 1s - loss: 0.0045 - accuracy: 0.9769 - val_loss: 0.0057 - val_accuracy: 0.9688\n",
      "Epoch 13/50\n",
      "469/469 - 0s - loss: 0.0042 - accuracy: 0.9786 - val_loss: 0.0055 - val_accuracy: 0.9703\n",
      "Epoch 14/50\n",
      "469/469 - 0s - loss: 0.0039 - accuracy: 0.9803 - val_loss: 0.0054 - val_accuracy: 0.9709\n",
      "Epoch 15/50\n",
      "469/469 - 1s - loss: 0.0037 - accuracy: 0.9811 - val_loss: 0.0053 - val_accuracy: 0.9724\n",
      "Epoch 16/50\n",
      "469/469 - 1s - loss: 0.0035 - accuracy: 0.9825 - val_loss: 0.0051 - val_accuracy: 0.9721\n",
      "Epoch 17/50\n",
      "469/469 - 1s - loss: 0.0033 - accuracy: 0.9832 - val_loss: 0.0050 - val_accuracy: 0.9732\n",
      "Epoch 18/50\n",
      "469/469 - 1s - loss: 0.0031 - accuracy: 0.9843 - val_loss: 0.0050 - val_accuracy: 0.9724\n",
      "Epoch 19/50\n",
      "469/469 - 0s - loss: 0.0030 - accuracy: 0.9850 - val_loss: 0.0049 - val_accuracy: 0.9739\n",
      "Epoch 20/50\n",
      "469/469 - 1s - loss: 0.0028 - accuracy: 0.9860 - val_loss: 0.0049 - val_accuracy: 0.9735\n",
      "Epoch 21/50\n",
      "469/469 - 0s - loss: 0.0027 - accuracy: 0.9866 - val_loss: 0.0047 - val_accuracy: 0.9746\n",
      "Epoch 22/50\n",
      "469/469 - 0s - loss: 0.0025 - accuracy: 0.9872 - val_loss: 0.0048 - val_accuracy: 0.9752\n",
      "Epoch 23/50\n",
      "469/469 - 0s - loss: 0.0024 - accuracy: 0.9881 - val_loss: 0.0048 - val_accuracy: 0.9751\n",
      "Epoch 24/50\n",
      "469/469 - 0s - loss: 0.0023 - accuracy: 0.9881 - val_loss: 0.0048 - val_accuracy: 0.9748\n",
      "Epoch 25/50\n",
      "469/469 - 0s - loss: 0.0022 - accuracy: 0.9887 - val_loss: 0.0049 - val_accuracy: 0.9751\n",
      "Epoch 26/50\n",
      "469/469 - 1s - loss: 0.0021 - accuracy: 0.9890 - val_loss: 0.0046 - val_accuracy: 0.9751\n",
      "Epoch 27/50\n",
      "469/469 - 0s - loss: 0.0020 - accuracy: 0.9898 - val_loss: 0.0047 - val_accuracy: 0.9758\n",
      "Epoch 28/50\n",
      "469/469 - 0s - loss: 0.0019 - accuracy: 0.9900 - val_loss: 0.0046 - val_accuracy: 0.9766\n",
      "Epoch 29/50\n",
      "469/469 - 0s - loss: 0.0018 - accuracy: 0.9901 - val_loss: 0.0046 - val_accuracy: 0.9766\n",
      "Epoch 30/50\n",
      "469/469 - 0s - loss: 0.0018 - accuracy: 0.9906 - val_loss: 0.0048 - val_accuracy: 0.9750\n",
      "Epoch 31/50\n",
      "469/469 - 0s - loss: 0.0017 - accuracy: 0.9907 - val_loss: 0.0047 - val_accuracy: 0.9760\n",
      "Epoch 32/50\n",
      "469/469 - 0s - loss: 0.0016 - accuracy: 0.9915 - val_loss: 0.0047 - val_accuracy: 0.9764\n",
      "Epoch 33/50\n",
      "469/469 - 0s - loss: 0.0016 - accuracy: 0.9913 - val_loss: 0.0046 - val_accuracy: 0.9767\n",
      "Epoch 34/50\n",
      "469/469 - 0s - loss: 0.0015 - accuracy: 0.9915 - val_loss: 0.0047 - val_accuracy: 0.9768\n",
      "Epoch 35/50\n",
      "469/469 - 0s - loss: 0.0015 - accuracy: 0.9917 - val_loss: 0.0048 - val_accuracy: 0.9768\n",
      "Epoch 36/50\n",
      "469/469 - 0s - loss: 0.0014 - accuracy: 0.9917 - val_loss: 0.0048 - val_accuracy: 0.9754\n",
      "Epoch 37/50\n",
      "469/469 - 0s - loss: 0.0014 - accuracy: 0.9922 - val_loss: 0.0047 - val_accuracy: 0.9766\n",
      "Epoch 38/50\n",
      "469/469 - 1s - loss: 0.0013 - accuracy: 0.9922 - val_loss: 0.0048 - val_accuracy: 0.9767\n",
      "Epoch 39/50\n",
      "469/469 - 0s - loss: 0.0013 - accuracy: 0.9924 - val_loss: 0.0047 - val_accuracy: 0.9769\n",
      "Epoch 40/50\n",
      "469/469 - 0s - loss: 0.0013 - accuracy: 0.9924 - val_loss: 0.0048 - val_accuracy: 0.9762\n",
      "Epoch 41/50\n",
      "469/469 - 0s - loss: 0.0012 - accuracy: 0.9927 - val_loss: 0.0047 - val_accuracy: 0.9769\n",
      "Epoch 42/50\n",
      "469/469 - 0s - loss: 0.0012 - accuracy: 0.9926 - val_loss: 0.0047 - val_accuracy: 0.9769\n",
      "Epoch 43/50\n",
      "469/469 - 0s - loss: 0.0012 - accuracy: 0.9927 - val_loss: 0.0049 - val_accuracy: 0.9769\n",
      "Epoch 44/50\n",
      "469/469 - 0s - loss: 0.0011 - accuracy: 0.9928 - val_loss: 0.0047 - val_accuracy: 0.9773\n",
      "Epoch 45/50\n",
      "469/469 - 1s - loss: 0.0011 - accuracy: 0.9929 - val_loss: 0.0048 - val_accuracy: 0.9765\n",
      "Epoch 46/50\n",
      "469/469 - 0s - loss: 0.0011 - accuracy: 0.9929 - val_loss: 0.0051 - val_accuracy: 0.9756\n",
      "Epoch 47/50\n",
      "469/469 - 0s - loss: 0.0011 - accuracy: 0.9930 - val_loss: 0.0050 - val_accuracy: 0.9753\n",
      "Epoch 48/50\n",
      "469/469 - 0s - loss: 0.0011 - accuracy: 0.9930 - val_loss: 0.0049 - val_accuracy: 0.9758\n",
      "Epoch 49/50\n",
      "469/469 - 0s - loss: 0.0011 - accuracy: 0.9931 - val_loss: 0.0049 - val_accuracy: 0.9763\n",
      "Epoch 50/50\n",
      "469/469 - 0s - loss: 0.0010 - accuracy: 0.9931 - val_loss: 0.0048 - val_accuracy: 0.9769\n"
     ]
    },
    {
     "data": {
      "text/plain": [
       "<tensorflow.python.keras.callbacks.History at 0x7f8430d49280>"
      ]
     },
     "execution_count": 52,
     "metadata": {},
     "output_type": "execute_result"
    }
   ],
   "source": [
    "neural_network.fit(image_train, label_train,\n",
    "                  batch_size=128, epochs = 50,\n",
    "                  verbose=2,\n",
    "                  validation_data=(image_test, label_test))"
   ]
  },
  {
   "cell_type": "markdown",
   "metadata": {},
   "source": [
    "Coded while working through the following book:\n",
    "Krohn, J., Beyleveld, G., & Bassens, A. (2019). Deep Learning Illustrated: A Visual, Interactive Guide to Artificial Intelligence. Addison-Wesley Professional."
   ]
  }
 ],
 "metadata": {
  "kernelspec": {
   "display_name": "Python 3",
   "language": "python",
   "name": "python3"
  },
  "language_info": {
   "codemirror_mode": {
    "name": "ipython",
    "version": 3
   },
   "file_extension": ".py",
   "mimetype": "text/x-python",
   "name": "python",
   "nbconvert_exporter": "python",
   "pygments_lexer": "ipython3",
   "version": "3.8.3"
  }
 },
 "nbformat": 4,
 "nbformat_minor": 4
}
