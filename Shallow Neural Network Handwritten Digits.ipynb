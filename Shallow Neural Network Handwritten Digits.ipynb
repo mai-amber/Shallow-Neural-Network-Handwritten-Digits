{
 "cells": [
  {
   "cell_type": "markdown",
   "metadata": {},
   "source": [
    "<h1> Shallow Neural Network: Identifying Handwritten Digits <h1>"
   ]
  },
  {
   "cell_type": "markdown",
   "metadata": {},
   "source": [
    "<img src=\"Handwriting-digit-recognition-Keras-MNIST.jpg\">"
   ]
  },
  {
   "cell_type": "markdown",
   "metadata": {},
   "source": [
    "<h2> Imports and Data Loading <h2>"
   ]
  },
  {
   "cell_type": "code",
   "execution_count": 7,
   "metadata": {},
   "outputs": [],
   "source": [
    "import keras\n",
    "from keras.datasets import mnist\n",
    "from keras.models import Sequential\n",
    "from keras.layers import Dense\n",
    "from keras.optimizers import SGD\n",
    "from matplotlib import pyplot as plt"
   ]
  },
  {
   "cell_type": "code",
   "execution_count": 8,
   "metadata": {},
   "outputs": [],
   "source": [
    "(image_train, label_train), (image_test, label_test) = mnist.load_data()"
   ]
  },
  {
   "cell_type": "markdown",
   "metadata": {},
   "source": [
    "<h2>Preprocessing<h2>"
   ]
  },
  {
   "cell_type": "code",
   "execution_count": 9,
   "metadata": {},
   "outputs": [],
   "source": [
    "#Flattening\n",
    "image_train = image_train.reshape(60000, 784).astype('float32')\n",
    "image_test = image_test.reshape(10000, 784).astype('float32')\n",
    "\n",
    "#Converting into floats between 0-1\n",
    "image_train /= 255\n",
    "image_test /= 255\n",
    "\n",
    "#One hot encoding labels\n",
    "num_classes = 10\n",
    "label_train = keras.utils.to_categorical(label_train, num_classes)\n",
    "label_test = keras.utils.to_categorical(label_test, num_classes)"
   ]
  },
  {
   "cell_type": "markdown",
   "metadata": {},
   "source": [
    "<h2> Neural Network<h2>"
   ]
  },
  {
   "cell_type": "code",
   "execution_count": 10,
   "metadata": {},
   "outputs": [],
   "source": [
    "neural_network = Sequential()\n",
    "neural_network.add(Dense(64, activation='relu', input_shape=(784,)))\n",
    "neural_network.add(Dense(10, activation='sigmoid'))\n",
    "neural_network.compile(loss='categorical_crossentropy', optimizer='adam', metrics=['accuracy'])"
   ]
  },
  {
   "cell_type": "markdown",
   "metadata": {},
   "source": [
    "<h2>Training<h2>"
   ]
  },
  {
   "cell_type": "code",
   "execution_count": 11,
   "metadata": {},
   "outputs": [
    {
     "name": "stdout",
     "output_type": "stream",
     "text": [
      "Epoch 1/20\n",
      "469/469 - 1s - loss: 0.4590 - accuracy: 0.8822 - val_loss: 0.2417 - val_accuracy: 0.9341\n",
      "Epoch 2/20\n",
      "469/469 - 1s - loss: 0.2205 - accuracy: 0.9375 - val_loss: 0.1922 - val_accuracy: 0.9439\n",
      "Epoch 3/20\n",
      "469/469 - 1s - loss: 0.1758 - accuracy: 0.9496 - val_loss: 0.1611 - val_accuracy: 0.9546\n",
      "Epoch 4/20\n",
      "469/469 - 1s - loss: 0.1477 - accuracy: 0.9576 - val_loss: 0.1408 - val_accuracy: 0.9585\n",
      "Epoch 5/20\n",
      "469/469 - 1s - loss: 0.1277 - accuracy: 0.9629 - val_loss: 0.1276 - val_accuracy: 0.9633\n",
      "Epoch 6/20\n",
      "469/469 - 1s - loss: 0.1135 - accuracy: 0.9663 - val_loss: 0.1216 - val_accuracy: 0.9648\n",
      "Epoch 7/20\n",
      "469/469 - 1s - loss: 0.1009 - accuracy: 0.9703 - val_loss: 0.1123 - val_accuracy: 0.9677\n",
      "Epoch 8/20\n",
      "469/469 - 1s - loss: 0.0916 - accuracy: 0.9735 - val_loss: 0.1058 - val_accuracy: 0.9690\n",
      "Epoch 9/20\n",
      "469/469 - 1s - loss: 0.0828 - accuracy: 0.9757 - val_loss: 0.1025 - val_accuracy: 0.9697\n",
      "Epoch 10/20\n",
      "469/469 - 1s - loss: 0.0755 - accuracy: 0.9785 - val_loss: 0.1007 - val_accuracy: 0.9700\n",
      "Epoch 11/20\n",
      "469/469 - 1s - loss: 0.0696 - accuracy: 0.9798 - val_loss: 0.0955 - val_accuracy: 0.9715\n",
      "Epoch 12/20\n",
      "469/469 - 1s - loss: 0.0644 - accuracy: 0.9809 - val_loss: 0.0973 - val_accuracy: 0.9721\n",
      "Epoch 13/20\n",
      "469/469 - 1s - loss: 0.0597 - accuracy: 0.9824 - val_loss: 0.0957 - val_accuracy: 0.9720\n",
      "Epoch 14/20\n",
      "469/469 - 1s - loss: 0.0552 - accuracy: 0.9839 - val_loss: 0.0931 - val_accuracy: 0.9726\n",
      "Epoch 15/20\n",
      "469/469 - 1s - loss: 0.0518 - accuracy: 0.9848 - val_loss: 0.1006 - val_accuracy: 0.9695\n",
      "Epoch 16/20\n",
      "469/469 - 1s - loss: 0.0479 - accuracy: 0.9856 - val_loss: 0.0874 - val_accuracy: 0.9747\n",
      "Epoch 17/20\n",
      "469/469 - 1s - loss: 0.0443 - accuracy: 0.9870 - val_loss: 0.0925 - val_accuracy: 0.9727\n",
      "Epoch 18/20\n",
      "469/469 - 1s - loss: 0.0417 - accuracy: 0.9880 - val_loss: 0.0932 - val_accuracy: 0.9720\n",
      "Epoch 19/20\n",
      "469/469 - 1s - loss: 0.0389 - accuracy: 0.9892 - val_loss: 0.0883 - val_accuracy: 0.9734\n",
      "Epoch 20/20\n",
      "469/469 - 1s - loss: 0.0365 - accuracy: 0.9897 - val_loss: 0.0930 - val_accuracy: 0.9739\n"
     ]
    },
    {
     "data": {
      "text/plain": [
       "<tensorflow.python.keras.callbacks.History at 0x7fbab2df04c0>"
      ]
     },
     "execution_count": 11,
     "metadata": {},
     "output_type": "execute_result"
    }
   ],
   "source": [
    "neural_network.fit(image_train, label_train,\n",
    "                  batch_size=128, epochs = 20,\n",
    "                  verbose=2,\n",
    "                  validation_data=(image_test, label_test))"
   ]
  },
  {
   "cell_type": "markdown",
   "metadata": {},
   "source": [
    "<h2>Evaluating<h2>"
   ]
  },
  {
   "cell_type": "code",
   "execution_count": 12,
   "metadata": {},
   "outputs": [
    {
     "name": "stdout",
     "output_type": "stream",
     "text": [
      "313/313 - 0s - loss: 0.0930 - accuracy: 0.9739\n"
     ]
    },
    {
     "data": {
      "text/plain": [
       "[0.09297104924917221, 0.9739000201225281]"
      ]
     },
     "execution_count": 12,
     "metadata": {},
     "output_type": "execute_result"
    }
   ],
   "source": [
    "neural_network.evaluate(image_test, label_test, verbose=2)"
   ]
  },
  {
   "cell_type": "markdown",
   "metadata": {},
   "source": [
    "Coded while working through the following book:\n",
    "Krohn, J., Beyleveld, G., & Bassens, A. (2019). Deep Learning Illustrated: A Visual, Interactive Guide to Artificial Intelligence. Addison-Wesley Professional."
   ]
  }
 ],
 "metadata": {
  "kernelspec": {
   "display_name": "Python 3",
   "language": "python",
   "name": "python3"
  },
  "language_info": {
   "codemirror_mode": {
    "name": "ipython",
    "version": 3
   },
   "file_extension": ".py",
   "mimetype": "text/x-python",
   "name": "python",
   "nbconvert_exporter": "python",
   "pygments_lexer": "ipython3",
   "version": "3.8.3"
  }
 },
 "nbformat": 4,
 "nbformat_minor": 4
}
