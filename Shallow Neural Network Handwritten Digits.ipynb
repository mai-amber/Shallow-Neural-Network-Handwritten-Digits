{
 "cells": [
  {
   "cell_type": "markdown",
   "metadata": {},
   "source": [
    "<h1> Shallow Neural Network: Identifying Handwritten Digits <h1>"
   ]
  },
  {
   "cell_type": "markdown",
   "metadata": {},
   "source": [
    "<img src=\"Handwriting-digit-recognition-Keras-MNIST.jpg\">"
   ]
  },
  {
   "cell_type": "markdown",
   "metadata": {},
   "source": [
    "<h2> Imports and Data Loading <h2>"
   ]
  },
  {
   "cell_type": "code",
   "execution_count": 28,
   "metadata": {},
   "outputs": [],
   "source": [
    "import keras\n",
    "from keras.datasets import mnist\n",
    "from keras.models import Sequential\n",
    "from keras.layers import Dense\n",
    "from keras.optimizers import SGD\n",
    "from matplotlib import pyplot as plt"
   ]
  },
  {
   "cell_type": "code",
   "execution_count": 15,
   "metadata": {},
   "outputs": [],
   "source": [
    "(image_train, label_train), (image_test, label_test) = mnist.load_data()"
   ]
  },
  {
   "cell_type": "markdown",
   "metadata": {},
   "source": [
    "<h2>Preprocessing<h2>"
   ]
  },
  {
   "cell_type": "code",
   "execution_count": 16,
   "metadata": {},
   "outputs": [],
   "source": [
    "#Flattening\n",
    "image_train = image_train.reshape(60000, 784).astype('float32')\n",
    "image_test = image_test.reshape(10000, 784).astype('float32')\n",
    "\n",
    "#Converting into floats between 0-1\n",
    "image_train /= 255\n",
    "image_test /= 255\n",
    "\n",
    "#One hot encoding labels\n",
    "num_classes = 10\n",
    "label_train = keras.utils.to_categorical(label_train, num_classes)\n",
    "label_test = keras.utils.to_categorical(label_test, num_classes)"
   ]
  },
  {
   "cell_type": "markdown",
   "metadata": {},
   "source": [
    "<h2> Neural Network<h2>"
   ]
  },
  {
   "cell_type": "code",
   "execution_count": 17,
   "metadata": {},
   "outputs": [],
   "source": [
    "neural_network = Sequential()\n",
    "neural_network.add(Dense(64, activation='relu', input_shape=(784,)))\n",
    "neural_network.add(Dense(10, activation='sigmoid'))\n",
    "neural_network.compile(loss='mean_squared_error', optimizer='adam', metrics=['accuracy'])"
   ]
  },
  {
   "cell_type": "markdown",
   "metadata": {},
   "source": [
    "<h2>Training<h2>"
   ]
  },
  {
   "cell_type": "code",
   "execution_count": 18,
   "metadata": {},
   "outputs": [
    {
     "name": "stdout",
     "output_type": "stream",
     "text": [
      "Epoch 1/50\n",
      "469/469 - 1s - loss: 0.0342 - accuracy: 0.8198 - val_loss: 0.0164 - val_accuracy: 0.9158\n",
      "Epoch 2/50\n",
      "469/469 - 0s - loss: 0.0145 - accuracy: 0.9219 - val_loss: 0.0122 - val_accuracy: 0.9342\n",
      "Epoch 3/50\n",
      "469/469 - 0s - loss: 0.0112 - accuracy: 0.9392 - val_loss: 0.0099 - val_accuracy: 0.9448\n",
      "Epoch 4/50\n",
      "469/469 - 0s - loss: 0.0093 - accuracy: 0.9496 - val_loss: 0.0086 - val_accuracy: 0.9532\n",
      "Epoch 5/50\n",
      "469/469 - 0s - loss: 0.0080 - accuracy: 0.9560 - val_loss: 0.0078 - val_accuracy: 0.9570\n",
      "Epoch 6/50\n",
      "469/469 - 0s - loss: 0.0071 - accuracy: 0.9614 - val_loss: 0.0071 - val_accuracy: 0.9617\n",
      "Epoch 7/50\n",
      "469/469 - 0s - loss: 0.0064 - accuracy: 0.9658 - val_loss: 0.0067 - val_accuracy: 0.9631\n",
      "Epoch 8/50\n",
      "469/469 - 0s - loss: 0.0058 - accuracy: 0.9691 - val_loss: 0.0064 - val_accuracy: 0.9646\n",
      "Epoch 9/50\n",
      "469/469 - 0s - loss: 0.0054 - accuracy: 0.9717 - val_loss: 0.0060 - val_accuracy: 0.9663\n",
      "Epoch 10/50\n",
      "469/469 - 0s - loss: 0.0051 - accuracy: 0.9731 - val_loss: 0.0058 - val_accuracy: 0.9688\n",
      "Epoch 11/50\n",
      "469/469 - 0s - loss: 0.0047 - accuracy: 0.9754 - val_loss: 0.0057 - val_accuracy: 0.9703\n",
      "Epoch 12/50\n",
      "469/469 - 0s - loss: 0.0045 - accuracy: 0.9771 - val_loss: 0.0057 - val_accuracy: 0.9681\n",
      "Epoch 13/50\n",
      "469/469 - 0s - loss: 0.0042 - accuracy: 0.9786 - val_loss: 0.0054 - val_accuracy: 0.9714\n",
      "Epoch 14/50\n",
      "469/469 - 0s - loss: 0.0039 - accuracy: 0.9797 - val_loss: 0.0052 - val_accuracy: 0.9700\n",
      "Epoch 15/50\n",
      "469/469 - 0s - loss: 0.0037 - accuracy: 0.9811 - val_loss: 0.0052 - val_accuracy: 0.9725\n",
      "Epoch 16/50\n",
      "469/469 - 0s - loss: 0.0035 - accuracy: 0.9823 - val_loss: 0.0051 - val_accuracy: 0.9724\n",
      "Epoch 17/50\n",
      "469/469 - 0s - loss: 0.0033 - accuracy: 0.9834 - val_loss: 0.0050 - val_accuracy: 0.9738\n",
      "Epoch 18/50\n",
      "469/469 - 0s - loss: 0.0032 - accuracy: 0.9840 - val_loss: 0.0051 - val_accuracy: 0.9726\n",
      "Epoch 19/50\n",
      "469/469 - 0s - loss: 0.0030 - accuracy: 0.9850 - val_loss: 0.0049 - val_accuracy: 0.9753\n",
      "Epoch 20/50\n",
      "469/469 - 0s - loss: 0.0029 - accuracy: 0.9855 - val_loss: 0.0050 - val_accuracy: 0.9752\n",
      "Epoch 21/50\n",
      "469/469 - 0s - loss: 0.0028 - accuracy: 0.9861 - val_loss: 0.0048 - val_accuracy: 0.9758\n",
      "Epoch 22/50\n",
      "469/469 - 0s - loss: 0.0026 - accuracy: 0.9867 - val_loss: 0.0047 - val_accuracy: 0.9758\n",
      "Epoch 23/50\n",
      "469/469 - 0s - loss: 0.0025 - accuracy: 0.9872 - val_loss: 0.0048 - val_accuracy: 0.9760\n",
      "Epoch 24/50\n",
      "469/469 - 0s - loss: 0.0024 - accuracy: 0.9875 - val_loss: 0.0047 - val_accuracy: 0.9768\n",
      "Epoch 25/50\n",
      "469/469 - 0s - loss: 0.0023 - accuracy: 0.9882 - val_loss: 0.0047 - val_accuracy: 0.9762\n",
      "Epoch 26/50\n",
      "469/469 - 0s - loss: 0.0022 - accuracy: 0.9886 - val_loss: 0.0046 - val_accuracy: 0.9772\n",
      "Epoch 27/50\n",
      "469/469 - 0s - loss: 0.0021 - accuracy: 0.9887 - val_loss: 0.0047 - val_accuracy: 0.9773\n",
      "Epoch 28/50\n",
      "469/469 - 0s - loss: 0.0020 - accuracy: 0.9895 - val_loss: 0.0047 - val_accuracy: 0.9771\n",
      "Epoch 29/50\n",
      "469/469 - 0s - loss: 0.0020 - accuracy: 0.9897 - val_loss: 0.0048 - val_accuracy: 0.9776\n",
      "Epoch 30/50\n",
      "469/469 - 0s - loss: 0.0019 - accuracy: 0.9899 - val_loss: 0.0048 - val_accuracy: 0.9768\n",
      "Epoch 31/50\n",
      "469/469 - 1s - loss: 0.0018 - accuracy: 0.9901 - val_loss: 0.0047 - val_accuracy: 0.9769\n",
      "Epoch 32/50\n",
      "469/469 - 0s - loss: 0.0018 - accuracy: 0.9905 - val_loss: 0.0047 - val_accuracy: 0.9773\n",
      "Epoch 33/50\n",
      "469/469 - 0s - loss: 0.0017 - accuracy: 0.9907 - val_loss: 0.0046 - val_accuracy: 0.9770\n",
      "Epoch 34/50\n",
      "469/469 - 0s - loss: 0.0016 - accuracy: 0.9912 - val_loss: 0.0047 - val_accuracy: 0.9775\n",
      "Epoch 35/50\n",
      "469/469 - 0s - loss: 0.0016 - accuracy: 0.9910 - val_loss: 0.0047 - val_accuracy: 0.9770\n",
      "Epoch 36/50\n",
      "469/469 - 0s - loss: 0.0015 - accuracy: 0.9911 - val_loss: 0.0047 - val_accuracy: 0.9783\n",
      "Epoch 37/50\n",
      "469/469 - 0s - loss: 0.0015 - accuracy: 0.9913 - val_loss: 0.0047 - val_accuracy: 0.9776\n",
      "Epoch 38/50\n",
      "469/469 - 0s - loss: 0.0015 - accuracy: 0.9915 - val_loss: 0.0047 - val_accuracy: 0.9772\n",
      "Epoch 39/50\n",
      "469/469 - 0s - loss: 0.0014 - accuracy: 0.9916 - val_loss: 0.0047 - val_accuracy: 0.9781\n",
      "Epoch 40/50\n",
      "469/469 - 0s - loss: 0.0013 - accuracy: 0.9917 - val_loss: 0.0046 - val_accuracy: 0.9783\n",
      "Epoch 41/50\n",
      "469/469 - 0s - loss: 0.0013 - accuracy: 0.9919 - val_loss: 0.0047 - val_accuracy: 0.9774\n",
      "Epoch 42/50\n",
      "469/469 - 0s - loss: 0.0013 - accuracy: 0.9918 - val_loss: 0.0047 - val_accuracy: 0.9773\n",
      "Epoch 43/50\n",
      "469/469 - 0s - loss: 0.0013 - accuracy: 0.9919 - val_loss: 0.0047 - val_accuracy: 0.9785\n",
      "Epoch 44/50\n",
      "469/469 - 0s - loss: 0.0012 - accuracy: 0.9920 - val_loss: 0.0047 - val_accuracy: 0.9776\n",
      "Epoch 45/50\n",
      "469/469 - 0s - loss: 0.0012 - accuracy: 0.9920 - val_loss: 0.0047 - val_accuracy: 0.9779\n",
      "Epoch 46/50\n",
      "469/469 - 0s - loss: 0.0012 - accuracy: 0.9923 - val_loss: 0.0046 - val_accuracy: 0.9786\n",
      "Epoch 47/50\n",
      "469/469 - 0s - loss: 0.0012 - accuracy: 0.9923 - val_loss: 0.0049 - val_accuracy: 0.9774\n",
      "Epoch 48/50\n",
      "469/469 - 0s - loss: 0.0011 - accuracy: 0.9923 - val_loss: 0.0047 - val_accuracy: 0.9783\n",
      "Epoch 49/50\n",
      "469/469 - 0s - loss: 0.0011 - accuracy: 0.9925 - val_loss: 0.0049 - val_accuracy: 0.9776\n",
      "Epoch 50/50\n",
      "469/469 - 0s - loss: 0.0011 - accuracy: 0.9925 - val_loss: 0.0047 - val_accuracy: 0.9778\n"
     ]
    },
    {
     "data": {
      "text/plain": [
       "<tensorflow.python.keras.callbacks.History at 0x7faee406b9d0>"
      ]
     },
     "execution_count": 18,
     "metadata": {},
     "output_type": "execute_result"
    }
   ],
   "source": [
    "neural_network.fit(image_train, label_train,\n",
    "                  batch_size=128, epochs = 50,\n",
    "                  verbose=2,\n",
    "                  validation_data=(image_test, label_test))"
   ]
  },
  {
   "cell_type": "markdown",
   "metadata": {},
   "source": [
    "<h2>Evaluating<h2>"
   ]
  },
  {
   "cell_type": "code",
   "execution_count": 36,
   "metadata": {},
   "outputs": [
    {
     "name": "stdout",
     "output_type": "stream",
     "text": [
      "313/313 - 0s - loss: 0.0047 - accuracy: 0.9778\n"
     ]
    },
    {
     "data": {
      "text/plain": [
       "[0.004708201624453068, 0.9778000116348267]"
      ]
     },
     "execution_count": 36,
     "metadata": {},
     "output_type": "execute_result"
    }
   ],
   "source": [
    "neural_network.evaluate(image_test, label_test, verbose=2)"
   ]
  },
  {
   "cell_type": "markdown",
   "metadata": {},
   "source": [
    "Coded while working through the following book:\n",
    "Krohn, J., Beyleveld, G., & Bassens, A. (2019). Deep Learning Illustrated: A Visual, Interactive Guide to Artificial Intelligence. Addison-Wesley Professional."
   ]
  }
 ],
 "metadata": {
  "kernelspec": {
   "display_name": "Python 3",
   "language": "python",
   "name": "python3"
  },
  "language_info": {
   "codemirror_mode": {
    "name": "ipython",
    "version": 3
   },
   "file_extension": ".py",
   "mimetype": "text/x-python",
   "name": "python",
   "nbconvert_exporter": "python",
   "pygments_lexer": "ipython3",
   "version": "3.8.3"
  }
 },
 "nbformat": 4,
 "nbformat_minor": 4
}
